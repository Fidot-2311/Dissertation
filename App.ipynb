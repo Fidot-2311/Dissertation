{
 "cells": [
  {
   "cell_type": "code",
   "execution_count": 1,
   "id": "d55973d4",
   "metadata": {},
   "outputs": [
    {
     "name": "stdout",
     "output_type": "stream",
     "text": [
      "Requirement already satisfied: flask in c:\\users\\firda\\anaconda3\\lib\\site-packages (2.2.2)\n",
      "Requirement already satisfied: joblib in c:\\users\\firda\\anaconda3\\lib\\site-packages (1.2.0)\n",
      "Requirement already satisfied: Werkzeug>=2.2.2 in c:\\users\\firda\\anaconda3\\lib\\site-packages (from flask) (2.2.3)\n",
      "Requirement already satisfied: Jinja2>=3.0 in c:\\users\\firda\\anaconda3\\lib\\site-packages (from flask) (3.1.2)\n",
      "Requirement already satisfied: itsdangerous>=2.0 in c:\\users\\firda\\anaconda3\\lib\\site-packages (from flask) (2.0.1)\n",
      "Requirement already satisfied: click>=8.0 in c:\\users\\firda\\anaconda3\\lib\\site-packages (from flask) (8.0.4)\n",
      "Requirement already satisfied: colorama in c:\\users\\firda\\anaconda3\\lib\\site-packages (from click>=8.0->flask) (0.4.6)\n",
      "Requirement already satisfied: MarkupSafe>=2.0 in c:\\users\\firda\\anaconda3\\lib\\site-packages (from Jinja2>=3.0->flask) (2.1.1)\n"
     ]
    }
   ],
   "source": [
    "!pip install flask joblib"
   ]
  },
  {
   "cell_type": "code",
   "execution_count": 2,
   "id": "37b474c2",
   "metadata": {},
   "outputs": [
    {
     "name": "stdout",
     "output_type": "stream",
     "text": [
      " * Serving Flask app '__main__'\n",
      " * Debug mode: on\n"
     ]
    },
    {
     "name": "stderr",
     "output_type": "stream",
     "text": [
      "WARNING: This is a development server. Do not use it in a production deployment. Use a production WSGI server instead.\n",
      " * Running on http://127.0.0.1:5000\n",
      "Press CTRL+C to quit\n",
      "127.0.0.1 - - [27/Jul/2024 22:34:48] \"POST /predict HTTP/1.1\" 200 -\n"
     ]
    }
   ],
   "source": [
    "from flask import Flask, request, jsonify\n",
    "import joblib\n",
    "import pandas as pd\n",
    "from threading import Thread\n",
    "\n",
    "# Load the trained XGBoost model\n",
    "model = joblib.load('best_xgboost_model.pkl')\n",
    "\n",
    "# Create a Flask app\n",
    "app = Flask(__name__)\n",
    "\n",
    "# Define the predict route\n",
    "@app.route('/predict', methods=['POST'])\n",
    "def predict():\n",
    "    try:\n",
    "        # Get the JSON data from the request\n",
    "        data = request.get_json()\n",
    "\n",
    "        # Convert data to DataFrame\n",
    "        df = pd.DataFrame(data)\n",
    "\n",
    "        # Define the top 13 features\n",
    "        top_13_features = [\n",
    "            'TouDef3rd', 'TI', 'Clr', 'PasTotPrgDist', 'PasDead',\n",
    "            'TouDefPen', 'PasMedCmp', 'TouAtt3rd', 'RecProg',\n",
    "            'TouAttPen', 'PasTotCmp', 'TouMid3rd', 'Shots'\n",
    "        ]\n",
    "\n",
    "        # Ensure only the top 13 features are used\n",
    "        X = df[top_13_features]\n",
    "\n",
    "        # Make predictions\n",
    "        predictions = model.predict(X)\n",
    "        predictions_proba = model.predict_proba(X).tolist()\n",
    "\n",
    "        # Return the predictions as a JSON response\n",
    "        return jsonify({\n",
    "            'predictions': predictions.tolist(),\n",
    "            'predictions_proba': predictions_proba\n",
    "        })\n",
    "    except Exception as e:\n",
    "        return jsonify({'error': str(e)})\n",
    "\n",
    "# Function to run the Flask app\n",
    "def run_app():\n",
    "    app.run(debug=True, use_reloader=False)\n",
    "\n",
    "# Run the Flask app in a separate thread\n",
    "thread = Thread(target=run_app)\n",
    "thread.start()\n"
   ]
  },
  {
   "cell_type": "code",
   "execution_count": 3,
   "id": "79bb2bed",
   "metadata": {},
   "outputs": [
    {
     "name": "stdout",
     "output_type": "stream",
     "text": [
      "Requirement already satisfied: requests in c:\\users\\firda\\anaconda3\\lib\\site-packages (2.31.0)\n",
      "Requirement already satisfied: charset-normalizer<4,>=2 in c:\\users\\firda\\anaconda3\\lib\\site-packages (from requests) (2.0.4)\n",
      "Requirement already satisfied: idna<4,>=2.5 in c:\\users\\firda\\anaconda3\\lib\\site-packages (from requests) (3.4)\n",
      "Requirement already satisfied: urllib3<3,>=1.21.1 in c:\\users\\firda\\anaconda3\\lib\\site-packages (from requests) (1.26.16)\n",
      "Requirement already satisfied: certifi>=2017.4.17 in c:\\users\\firda\\anaconda3\\lib\\site-packages (from requests) (2023.7.22)\n"
     ]
    }
   ],
   "source": [
    "!pip install requests"
   ]
  },
  {
   "cell_type": "code",
   "execution_count": 6,
   "id": "8d5b1ee5",
   "metadata": {},
   "outputs": [
    {
     "name": "stderr",
     "output_type": "stream",
     "text": [
      "127.0.0.1 - - [27/Jul/2024 22:40:51] \"POST /predict HTTP/1.1\" 200 -\n"
     ]
    },
    {
     "name": "stdout",
     "output_type": "stream",
     "text": [
      "{'predictions': [0], 'predictions_proba': [[0.9984837174415588, 0.00043835389078594744, 0.0010778955183923244]]}\n"
     ]
    }
   ],
   "source": [
    "import requests\n",
    "import json\n",
    "\n",
    "# Define the URL of the Flask API\n",
    "url = 'http://127.0.0.1:5000/predict'\n",
    "\n",
    "# Create a sample data input for prediction\n",
    "data = [{\n",
    "    \"TouDef3rd\": 3.20,\n",
    "    \"TI\": 9.31,\n",
    "    \"Clr\": 3.06,\n",
    "    \"PasTotPrgDist\": 2.77,\n",
    "    \"PasDead\": 4.69,\n",
    "    \"TouDefPen\": 3.40,\n",
    "    \"PasMedCmp\": 2.56,\n",
    "    \"TouAtt3rd\": 2.51,\n",
    "    \"RecProg\": 2.32,\n",
    "    \"TouAttPen\": 2.31,\n",
    "    \"PasTotCmp\": 2.62,\n",
    "    \"TouMid3rd\": 2.42,\n",
    "    \"Shots\": 2.22\n",
    "}]\n",
    "\n",
    "# Convert data to JSON\n",
    "data_json = json.dumps(data)\n",
    "\n",
    "# Send the POST request\n",
    "response = requests.post(url, json=data)\n",
    "\n",
    "# Print the response\n",
    "print(response.json())\n"
   ]
  },
  {
   "cell_type": "code",
   "execution_count": null,
   "id": "ded099f9",
   "metadata": {},
   "outputs": [],
   "source": []
  }
 ],
 "metadata": {
  "kernelspec": {
   "display_name": "Python 3 (ipykernel)",
   "language": "python",
   "name": "python3"
  },
  "language_info": {
   "codemirror_mode": {
    "name": "ipython",
    "version": 3
   },
   "file_extension": ".py",
   "mimetype": "text/x-python",
   "name": "python",
   "nbconvert_exporter": "python",
   "pygments_lexer": "ipython3",
   "version": "3.11.4"
  }
 },
 "nbformat": 4,
 "nbformat_minor": 5
}
